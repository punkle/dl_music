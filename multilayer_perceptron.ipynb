{
 "cells": [
  {
   "cell_type": "code",
   "execution_count": 1,
   "metadata": {},
   "outputs": [
    {
     "name": "stderr",
     "output_type": "stream",
     "text": [
      "/Users/brianfletcher/anaconda3/envs/tf-cpu/lib/python3.5/site-packages/h5py/__init__.py:36: FutureWarning: Conversion of the second argument of issubdtype from `float` to `np.floating` is deprecated. In future, it will be treated as `np.float64 == np.dtype(float).type`.\n",
      "  from ._conv import register_converters as _register_converters\n"
     ]
    }
   ],
   "source": [
    "import pandas as pd\n",
    "import numpy as np\n",
    "import seaborn as sns\n",
    "import tensorflow as tf\n",
    "import os\n",
    "import librosa as lbrs\n",
    "import wave as wv\n",
    "import glob\n",
    "import audioread as ar\n",
    "import binascii\n",
    "import sys\n",
    "import random"
   ]
  },
  {
   "cell_type": "code",
   "execution_count": 2,
   "metadata": {},
   "outputs": [],
   "source": [
    "genres_path = os.path.expanduser(\"~/Downloads/genres/*/*.au\")"
   ]
  },
  {
   "cell_type": "code",
   "execution_count": 3,
   "metadata": {},
   "outputs": [],
   "source": [
    "genre_map = {\n",
    "  'pop': 0,\n",
    "  'metal': 1,\n",
    "  'disco': 2,\n",
    "  'blues': 3,\n",
    "  'reggae': 4,\n",
    "  'classical': 5,\n",
    "  'rock': 6,\n",
    "  'hiphop': 7,\n",
    "  'country': 8,\n",
    "  'jazz': 9\n",
    "}\n",
    "\n",
    "sample_length = 3072"
   ]
  },
  {
   "cell_type": "code",
   "execution_count": 4,
   "metadata": {},
   "outputs": [],
   "source": [
    "def indices_to_one_hot(dta):\n",
    "  one_hot = np.zeros((len(dta), len(np.unique(dta))), np.uint8)\n",
    "  one_hot[np.arange(len(dta)), dta] = 1\n",
    "  return one_hot"
   ]
  },
  {
   "cell_type": "code",
   "execution_count": 5,
   "metadata": {},
   "outputs": [],
   "source": [
    "def read_audio_file(file):\n",
    "    file_data = np.zeros(sample_length, np.uint8)\n",
    "    with ar.audio_open(audio_file_path) as audio_file:\n",
    "      count = 0\n",
    "      sys.stdout.write('.')\n",
    "      for buf in audio_file:\n",
    "        for sample in buf:\n",
    "          if count >= sample_length:\n",
    "            break\n",
    "          file_data[count] = sample\n",
    "          count = count + 1\n",
    "        if count >= sample_length:\n",
    "            break\n",
    "    return file_data"
   ]
  },
  {
   "cell_type": "code",
   "execution_count": 6,
   "metadata": {},
   "outputs": [],
   "source": [
    "def getbatch(alldata, alllabels, batch_size = 16):\n",
    "    count = 0\n",
    "    newdata = alldata.copy()\n",
    "    arraylength = np.ma.size(newdata, axis=0)\n",
    "    while count < arraylength/batch_size:\n",
    "        randstart = random.randint(0, arraylength-batch_size-1)\n",
    "        count += 1\n",
    "        x = newdata[randstart:randstart+batch_size]\n",
    "        yield (x, alllabels[randstart:randstart+batch_size])"
   ]
  },
  {
   "cell_type": "code",
   "execution_count": 7,
   "metadata": {},
   "outputs": [
    {
     "name": "stdout",
     "output_type": "stream",
     "text": [
      "........................................................................................................................................................................................................................................................................................................................................................................................................................................................................................................................................................................................................................................................................................................................................................................................................................................................................................................................................................................................................................................(1000, 3072)\n"
     ]
    }
   ],
   "source": [
    "labels = np.ndarray(len(glob.glob(genres_path)), np.uint8)\n",
    "data = np.ndarray((len(glob.glob(genres_path)), sample_length))\n",
    "\n",
    "count = 0\n",
    "\n",
    "for num, audio_file_path in enumerate(glob.glob(genres_path), start=0):\n",
    "    genre = audio_file_path.split('/')[-2]\n",
    "    labels[num] = genre_map[genre]\n",
    "    data[num] = read_audio_file(audio_file_path)\n",
    "\n",
    "labels = indices_to_one_hot(labels)\n",
    "\n",
    "print(data.shape)"
   ]
  },
  {
   "cell_type": "code",
   "execution_count": 8,
   "metadata": {},
   "outputs": [
    {
     "name": "stdout",
     "output_type": "stream",
     "text": [
      "(1000, 10)\n"
     ]
    }
   ],
   "source": [
    "print(labels.shape)"
   ]
  },
  {
   "cell_type": "code",
   "execution_count": 9,
   "metadata": {},
   "outputs": [
    {
     "name": "stdout",
     "output_type": "stream",
     "text": [
      "(1000, 3072)\n"
     ]
    }
   ],
   "source": [
    "print(data.shape)"
   ]
  },
  {
   "cell_type": "code",
   "execution_count": 10,
   "metadata": {},
   "outputs": [],
   "source": [
    "data = data.copy() / data.max()"
   ]
  },
  {
   "cell_type": "code",
   "execution_count": 11,
   "metadata": {},
   "outputs": [
    {
     "name": "stdout",
     "output_type": "stream",
     "text": [
      "(800, 3072)\n",
      "(200, 3072)\n"
     ]
    }
   ],
   "source": [
    "train_test_mask = np.random.rand(1000,) > 0.2\n",
    "train_test_mask = np.full(1000, False)\n",
    "train_test_mask[:800] = True\n",
    "np.random.shuffle(train_test_mask)\n",
    "\n",
    "train_data = data[train_test_mask,:,]\n",
    "test_data = data[~train_test_mask,:,]\n",
    "\n",
    "train_labels = labels[train_test_mask]\n",
    "test_labels = labels[~train_test_mask]\n",
    "\n",
    "print(train_data.shape)\n",
    "print(test_data.shape)"
   ]
  },
  {
   "cell_type": "code",
   "execution_count": 12,
   "metadata": {},
   "outputs": [],
   "source": [
    "ninput = sample_length\n",
    "noutput = len(genre_map)\n",
    "\n",
    "nepochs = 10\n",
    "batch_size = len(train_data) / 10\n",
    "learningrate = 0.001\n",
    "nhidden1 = 512\n",
    "nhidden2 = 256\n",
    "nhidden3 = 128"
   ]
  },
  {
   "cell_type": "code",
   "execution_count": 13,
   "metadata": {},
   "outputs": [],
   "source": [
    "X = tf.placeholder(tf.float32, [None, ninput])\n",
    "Y = tf.placeholder(tf.float32, [None, noutput])"
   ]
  },
  {
   "cell_type": "code",
   "execution_count": 14,
   "metadata": {},
   "outputs": [],
   "source": [
    "weights = \\\n",
    "{\n",
    "  'h1': tf.Variable(tf.random_normal([ninput, nhidden1])),\n",
    "  'h2': tf.Variable(tf.random_normal([nhidden1, nhidden2])),\n",
    "  'h3': tf.Variable(tf.random_normal([nhidden2, nhidden3])),\n",
    "  'out': tf.Variable(tf.random_normal([nhidden3, noutput]))\n",
    "}\n",
    "\n",
    "biases = \\\n",
    "{\n",
    "  'b1': tf.Variable(tf.random_normal([nhidden1])),\n",
    "  'b2': tf.Variable(tf.random_normal([nhidden2])),\n",
    "  'b3': tf.Variable(tf.random_normal([nhidden3])),\n",
    "  'out': tf.Variable(tf.random_normal([noutput]))\n",
    "}"
   ]
  },
  {
   "cell_type": "code",
   "execution_count": 15,
   "metadata": {},
   "outputs": [],
   "source": [
    "def multiperceptron(x):\n",
    "    l1 = tf.nn.sigmoid(tf.add(tf.matmul(x, weights['h1']), biases['b1']))\n",
    "    l2 = tf.nn.sigmoid(tf.add(tf.matmul(l1, weights['h2']), biases['b2']))\n",
    "    l3 = tf.nn.sigmoid(tf.add(tf.matmul(l2, weights['h3']), biases['b3']))\n",
    "    outl = tf.nn.sigmoid(tf.add(tf.matmul(l3, weights['out']), biases['out']))\n",
    "    return outl\n",
    "    \n",
    "model = multiperceptron(X)"
   ]
  },
  {
   "cell_type": "code",
   "execution_count": 16,
   "metadata": {},
   "outputs": [],
   "source": [
    "loss = tf.reduce_mean(tf.nn.softmax_cross_entropy_with_logits(logits = model, labels=Y))\n",
    "optimizer = tf.train.AdamOptimizer(learning_rate=learningrate)\n",
    "train_min = optimizer.minimize(loss)\n",
    "\n",
    "correct_prediction = tf.equal(tf.argmax(model, 1), tf.argmax(Y, 1))\n",
    "accuracy = tf.reduce_mean(tf.cast(correct_prediction, tf.float32))\n",
    "\n",
    "init = tf.global_variables_initializer()"
   ]
  },
  {
   "cell_type": "code",
   "execution_count": 17,
   "metadata": {},
   "outputs": [
    {
     "name": "stdout",
     "output_type": "stream",
     "text": [
      "Epoch: 0, Loss: 2.3029, Accuracy: 0.2054\n",
      "Epoch: 1, Loss: 2.2312, Accuracy: 0.2172\n",
      "Epoch: 2, Loss: 2.1983, Accuracy: 0.2241\n",
      "Epoch: 3, Loss: 2.1363, Accuracy: 0.2004\n",
      "Epoch: 4, Loss: 1.9644, Accuracy: 0.2246\n",
      "Epoch: 5, Loss: 2.0155, Accuracy: 0.2031\n",
      "Epoch: 6, Loss: 2.1552, Accuracy: 0.2540\n",
      "Epoch: 7, Loss: 1.8896, Accuracy: 0.2891\n",
      "Epoch: 8, Loss: 2.4856, Accuracy: 0.0229\n",
      "Epoch: 9, Loss: 1.8358, Accuracy: 0.3555\n",
      "Testing accuracy: 0.0900\n"
     ]
    }
   ],
   "source": [
    "with tf.Session() as sess:\n",
    "    sess.run(init)\n",
    "    \n",
    "    for epoch in range(nepochs):\n",
    "        for batch_x, batch_y in getbatch(train_data, train_labels, 512):\n",
    "            # Use training data for optimization\n",
    "            sess.run(train_min, feed_dict={X:batch_x, Y:batch_y})\n",
    "\n",
    "        # Validate after every epoch\n",
    "        arraylength = len(train_data)\n",
    "        randstart = random.randint(0, arraylength-batch_size-1)\n",
    "        batch_x = train_data.copy()[randstart:randstart+512]\n",
    "        batch_y = train_labels.copy()[randstart:randstart+512]\n",
    "        losscalc, accuracycalc = sess.run([loss, accuracy], feed_dict={X:batch_x, Y:batch_y})\n",
    "        print(\"Epoch: %d, Loss: %0.4f, Accuracy: %0.4f\"%(epoch, losscalc, accuracycalc))\n",
    "            \n",
    "    # When the training is complete and you are happy with the result\n",
    "    testing_x = test_data.reshape((test_data.shape[0], sample_length))\n",
    "    testing_y = test_labels\n",
    "\n",
    "    accuracycalc = sess.run(accuracy, feed_dict={X: testing_x, Y: testing_y})\n",
    "    print(\"Testing accuracy: %0.4f\"%(accuracycalc))"
   ]
  },
  {
   "cell_type": "code",
   "execution_count": null,
   "metadata": {},
   "outputs": [],
   "source": []
  }
 ],
 "metadata": {
  "kernelspec": {
   "display_name": "Python 3",
   "language": "python",
   "name": "python3"
  },
  "language_info": {
   "codemirror_mode": {
    "name": "ipython",
    "version": 3
   },
   "file_extension": ".py",
   "mimetype": "text/x-python",
   "name": "python",
   "nbconvert_exporter": "python",
   "pygments_lexer": "ipython3",
   "version": "3.5.2"
  },
  "widgets": {
   "state": {},
   "version": "1.1.2"
  }
 },
 "nbformat": 4,
 "nbformat_minor": 2
}
